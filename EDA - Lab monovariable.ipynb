{
 "cells": [
  {
   "cell_type": "markdown",
   "metadata": {},
   "source": [
    "Cargamos el CSV del siguiente Kaggle: \n",
    "https://www.kaggle.com/datasets/asaniczka/uk-optimal-product-price-prediction/"
   ]
  },
  {
   "cell_type": "markdown",
   "metadata": {},
   "source": [
    "\"C:\\Users\\Ro\\Downloads\\amz_uk_price_prediction_dataset.csv\\amz_uk_price_prediction_dataset.csv\""
   ]
  },
  {
   "cell_type": "code",
   "execution_count": 1,
   "metadata": {},
   "outputs": [],
   "source": [
    "import pandas as pd \n",
    "import matplotlib.pyplot as plt\n",
    "ventas_am_uk = pd.read_csv('C:/Users/Ro/OneDrive/Escritorio/Datasets/amz_uk_price_prediction_dataset.csv/amz_uk_price_prediction_dataset.csv')"
   ]
  },
  {
   "cell_type": "markdown",
   "metadata": {},
   "source": [
    "1.Comprende las categorias de productos:\n",
    "    1.1.1. Crea una tabla de frecuencias para la columna de categorías.\n",
    "    1.1.2. Saca los 5 valores mas altos."
   ]
  },
  {
   "cell_type": "code",
   "execution_count": 2,
   "metadata": {},
   "outputs": [
    {
     "data": {
      "text/html": [
       "<div>\n",
       "<style scoped>\n",
       "    .dataframe tbody tr th:only-of-type {\n",
       "        vertical-align: middle;\n",
       "    }\n",
       "\n",
       "    .dataframe tbody tr th {\n",
       "        vertical-align: top;\n",
       "    }\n",
       "\n",
       "    .dataframe thead th {\n",
       "        text-align: right;\n",
       "    }\n",
       "</style>\n",
       "<table border=\"1\" class=\"dataframe\">\n",
       "  <thead>\n",
       "    <tr style=\"text-align: right;\">\n",
       "      <th></th>\n",
       "      <th>uid</th>\n",
       "      <th>asin</th>\n",
       "      <th>title</th>\n",
       "      <th>stars</th>\n",
       "      <th>reviews</th>\n",
       "      <th>price</th>\n",
       "      <th>isBestSeller</th>\n",
       "      <th>boughtInLastMonth</th>\n",
       "      <th>category</th>\n",
       "    </tr>\n",
       "  </thead>\n",
       "  <tbody>\n",
       "    <tr>\n",
       "      <th>0</th>\n",
       "      <td>1</td>\n",
       "      <td>B09B96TG33</td>\n",
       "      <td>Echo Dot (5th generation, 2022 release) | Big ...</td>\n",
       "      <td>4.7</td>\n",
       "      <td>15308</td>\n",
       "      <td>21.99</td>\n",
       "      <td>False</td>\n",
       "      <td>0</td>\n",
       "      <td>Hi-Fi Speakers</td>\n",
       "    </tr>\n",
       "    <tr>\n",
       "      <th>1</th>\n",
       "      <td>2</td>\n",
       "      <td>B01HTH3C8S</td>\n",
       "      <td>Anker Soundcore mini, Super-Portable Bluetooth...</td>\n",
       "      <td>4.7</td>\n",
       "      <td>98099</td>\n",
       "      <td>23.99</td>\n",
       "      <td>True</td>\n",
       "      <td>0</td>\n",
       "      <td>Hi-Fi Speakers</td>\n",
       "    </tr>\n",
       "    <tr>\n",
       "      <th>2</th>\n",
       "      <td>3</td>\n",
       "      <td>B09B8YWXDF</td>\n",
       "      <td>Echo Dot (5th generation, 2022 release) | Big ...</td>\n",
       "      <td>4.7</td>\n",
       "      <td>15308</td>\n",
       "      <td>21.99</td>\n",
       "      <td>False</td>\n",
       "      <td>0</td>\n",
       "      <td>Hi-Fi Speakers</td>\n",
       "    </tr>\n",
       "    <tr>\n",
       "      <th>3</th>\n",
       "      <td>4</td>\n",
       "      <td>B09B8T5VGV</td>\n",
       "      <td>Echo Dot with clock (5th generation, 2022 rele...</td>\n",
       "      <td>4.7</td>\n",
       "      <td>7205</td>\n",
       "      <td>31.99</td>\n",
       "      <td>False</td>\n",
       "      <td>0</td>\n",
       "      <td>Hi-Fi Speakers</td>\n",
       "    </tr>\n",
       "    <tr>\n",
       "      <th>4</th>\n",
       "      <td>5</td>\n",
       "      <td>B09WX6QD65</td>\n",
       "      <td>Introducing Echo Pop | Full sound compact Wi-F...</td>\n",
       "      <td>4.6</td>\n",
       "      <td>1881</td>\n",
       "      <td>17.99</td>\n",
       "      <td>False</td>\n",
       "      <td>0</td>\n",
       "      <td>Hi-Fi Speakers</td>\n",
       "    </tr>\n",
       "  </tbody>\n",
       "</table>\n",
       "</div>"
      ],
      "text/plain": [
       "   uid        asin                                              title  stars  \\\n",
       "0    1  B09B96TG33  Echo Dot (5th generation, 2022 release) | Big ...    4.7   \n",
       "1    2  B01HTH3C8S  Anker Soundcore mini, Super-Portable Bluetooth...    4.7   \n",
       "2    3  B09B8YWXDF  Echo Dot (5th generation, 2022 release) | Big ...    4.7   \n",
       "3    4  B09B8T5VGV  Echo Dot with clock (5th generation, 2022 rele...    4.7   \n",
       "4    5  B09WX6QD65  Introducing Echo Pop | Full sound compact Wi-F...    4.6   \n",
       "\n",
       "   reviews  price  isBestSeller  boughtInLastMonth        category  \n",
       "0    15308  21.99         False                  0  Hi-Fi Speakers  \n",
       "1    98099  23.99          True                  0  Hi-Fi Speakers  \n",
       "2    15308  21.99         False                  0  Hi-Fi Speakers  \n",
       "3     7205  31.99         False                  0  Hi-Fi Speakers  \n",
       "4     1881  17.99         False                  0  Hi-Fi Speakers  "
      ]
     },
     "execution_count": 2,
     "metadata": {},
     "output_type": "execute_result"
    }
   ],
   "source": [
    "ventas_am_uk.head()"
   ]
  },
  {
   "cell_type": "code",
   "execution_count": null,
   "metadata": {},
   "outputs": [],
   "source": [
    "ventas_am_uk.head()\n",
    "plt.bar(ventas_am_uk['category'], ventas_am_uk['reviews'])\n",
    "\n",
    "# Personalizar la gráfica\n",
    "plt.title('Gráfica de Barras desde CSV')\n",
    "plt.xlabel('Categoría')\n",
    "plt.ylabel('Valor')"
   ]
  },
  {
   "cell_type": "markdown",
   "metadata": {},
   "source": [
    "1.2.1. Haz una gráfica de barras que te saque las diferentes categorías que hay.\n",
    "1.2.2. Usando una gráfica de tarta saca los valores que dominen las categorías más altas. "
   ]
  },
  {
   "cell_type": "markdown",
   "metadata": {},
   "source": []
  },
  {
   "cell_type": "markdown",
   "metadata": {},
   "source": [
    "Parte 2: Profundizando en el precio de los productos\n",
    "Pregunta comercial : ¿Cómo se fijan los precios de los productos en Amazon Reino Unido? ¿Hay puntos o rangos de precios específicos que sean más comunes?\n",
    "\n",
    "Medidas de centralidad :\n",
    "     Calcular la media, la mediana y la moda para los priceproductos.\n",
    "    ¿Cuál es el precio promedio de los productos que se muestran? ¿Cómo se compara con el precio más común (moda)?\n",
    "\n",
    "Medidas de dispersión :\n",
    "    Determine la varianza, la desviación estándar, el rango y el rango intercuartil para el producto price.\n",
    "    ¿Qué tan variados son los precios de los productos? ¿Existen indicadores de una importante diferencia de precios?\n",
    "\n",
    "Visualizaciones :\n",
    "    ¿Existe un rango de precios específico en el que se encuentran la mayoría de los productos? Dibuje un histograma para visualizar la distribución de los precios de los productos. Si le resulta difícil leer estos diagramas, piense por qué es así y explique cómo se podría resolver .\n",
    "    ¿Hay productos cuyo precio es significativamente más alto que el resto? Utilice un diagrama de cajas para mostrar la diferencia y los posibles valores atípicos en los precios de los productos."
   ]
  },
  {
   "cell_type": "code",
   "execution_count": null,
   "metadata": {},
   "outputs": [],
   "source": []
  },
  {
   "cell_type": "markdown",
   "metadata": {},
   "source": [
    "Parte 3: Análisis de las calificaciones de productos\n",
    "\n",
    "Medidas de centralidad :\n",
    "    Calcular la media, la mediana y la moda para los ratingproductos.\n",
    "    ¿Cómo califican los clientes los productos en general? ¿Existe una tendencia común?\n",
    "\n",
    "Medidas de dispersión :\n",
    "    Determine la varianza, la desviación estándar y el rango intercuartil para el producto rating.\n",
    "    ¿Son consistentes las calificaciones o hay una amplia variación en los comentarios de los clientes?\n",
    "\n",
    "Forma de la distribución :\n",
    "    Calcular la asimetría y la curtosis de la ratingcolumna.\n",
    "    ¿Las calificaciones se distribuyen normalmente o tienden hacia valores más altos o más bajos?\n",
    "\n",
    "Visualizaciones :\n",
    "    Dibuje un histograma para visualizar la distribución de las calificaciones de los productos. ¿Existe alguna calificación específica que sea más común?"
   ]
  }
 ],
 "metadata": {
  "kernelspec": {
   "display_name": "Python 3",
   "language": "python",
   "name": "python3"
  },
  "language_info": {
   "codemirror_mode": {
    "name": "ipython",
    "version": 3
   },
   "file_extension": ".py",
   "mimetype": "text/x-python",
   "name": "python",
   "nbconvert_exporter": "python",
   "pygments_lexer": "ipython3",
   "version": "3.12.5"
  }
 },
 "nbformat": 4,
 "nbformat_minor": 2
}
