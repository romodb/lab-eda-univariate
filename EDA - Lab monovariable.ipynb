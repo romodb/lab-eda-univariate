{
 "cells": [
  {
   "cell_type": "markdown",
   "metadata": {},
   "source": [
    "Cargamos el CSV del siguiente Kaggle: \n",
    "https://www.kaggle.com/datasets/asaniczka/uk-optimal-product-price-prediction/"
   ]
  },
  {
   "cell_type": "markdown",
   "metadata": {},
   "source": [
    "\"C:\\Users\\Ro\\Downloads\\amz_uk_price_prediction_dataset.csv\\amz_uk_price_prediction_dataset.csv\""
   ]
  },
  {
   "cell_type": "code",
   "execution_count": 2,
   "metadata": {},
   "outputs": [],
   "source": [
    "import pandas as pd \n",
    "import matplotlib.pyplot as plt"
   ]
  },
  {
   "cell_type": "code",
   "execution_count": 3,
   "metadata": {},
   "outputs": [],
   "source": [
    "ventas_am_uk = pd.read_csv('C:/Users/Ro/OneDrive/Escritorio/Datasets/amz_uk_price_prediction_dataset.csv/amz_uk_price_prediction_dataset.csv')"
   ]
  },
  {
   "cell_type": "markdown",
   "metadata": {},
   "source": [
    "1.Comprende las categorias de productos:\n",
    "    1.1.1. Crea una tabla de frecuencias para la columna de categorías.\n",
    "    1.1.2. Saca los 5 valores mas altos."
   ]
  },
  {
   "cell_type": "code",
   "execution_count": 5,
   "metadata": {},
   "outputs": [
    {
     "data": {
      "text/html": [
       "<div>\n",
       "<style scoped>\n",
       "    .dataframe tbody tr th:only-of-type {\n",
       "        vertical-align: middle;\n",
       "    }\n",
       "\n",
       "    .dataframe tbody tr th {\n",
       "        vertical-align: top;\n",
       "    }\n",
       "\n",
       "    .dataframe thead th {\n",
       "        text-align: right;\n",
       "    }\n",
       "</style>\n",
       "<table border=\"1\" class=\"dataframe\">\n",
       "  <thead>\n",
       "    <tr style=\"text-align: right;\">\n",
       "      <th></th>\n",
       "      <th>uid</th>\n",
       "      <th>asin</th>\n",
       "      <th>title</th>\n",
       "      <th>stars</th>\n",
       "      <th>reviews</th>\n",
       "      <th>price</th>\n",
       "      <th>isBestSeller</th>\n",
       "      <th>boughtInLastMonth</th>\n",
       "      <th>category</th>\n",
       "    </tr>\n",
       "  </thead>\n",
       "  <tbody>\n",
       "    <tr>\n",
       "      <th>0</th>\n",
       "      <td>1</td>\n",
       "      <td>B09B96TG33</td>\n",
       "      <td>Echo Dot (5th generation, 2022 release) | Big ...</td>\n",
       "      <td>4.7</td>\n",
       "      <td>15308</td>\n",
       "      <td>21.99</td>\n",
       "      <td>False</td>\n",
       "      <td>0</td>\n",
       "      <td>Hi-Fi Speakers</td>\n",
       "    </tr>\n",
       "    <tr>\n",
       "      <th>1</th>\n",
       "      <td>2</td>\n",
       "      <td>B01HTH3C8S</td>\n",
       "      <td>Anker Soundcore mini, Super-Portable Bluetooth...</td>\n",
       "      <td>4.7</td>\n",
       "      <td>98099</td>\n",
       "      <td>23.99</td>\n",
       "      <td>True</td>\n",
       "      <td>0</td>\n",
       "      <td>Hi-Fi Speakers</td>\n",
       "    </tr>\n",
       "    <tr>\n",
       "      <th>2</th>\n",
       "      <td>3</td>\n",
       "      <td>B09B8YWXDF</td>\n",
       "      <td>Echo Dot (5th generation, 2022 release) | Big ...</td>\n",
       "      <td>4.7</td>\n",
       "      <td>15308</td>\n",
       "      <td>21.99</td>\n",
       "      <td>False</td>\n",
       "      <td>0</td>\n",
       "      <td>Hi-Fi Speakers</td>\n",
       "    </tr>\n",
       "    <tr>\n",
       "      <th>3</th>\n",
       "      <td>4</td>\n",
       "      <td>B09B8T5VGV</td>\n",
       "      <td>Echo Dot with clock (5th generation, 2022 rele...</td>\n",
       "      <td>4.7</td>\n",
       "      <td>7205</td>\n",
       "      <td>31.99</td>\n",
       "      <td>False</td>\n",
       "      <td>0</td>\n",
       "      <td>Hi-Fi Speakers</td>\n",
       "    </tr>\n",
       "    <tr>\n",
       "      <th>4</th>\n",
       "      <td>5</td>\n",
       "      <td>B09WX6QD65</td>\n",
       "      <td>Introducing Echo Pop | Full sound compact Wi-F...</td>\n",
       "      <td>4.6</td>\n",
       "      <td>1881</td>\n",
       "      <td>17.99</td>\n",
       "      <td>False</td>\n",
       "      <td>0</td>\n",
       "      <td>Hi-Fi Speakers</td>\n",
       "    </tr>\n",
       "  </tbody>\n",
       "</table>\n",
       "</div>"
      ],
      "text/plain": [
       "   uid        asin                                              title  stars  \\\n",
       "0    1  B09B96TG33  Echo Dot (5th generation, 2022 release) | Big ...    4.7   \n",
       "1    2  B01HTH3C8S  Anker Soundcore mini, Super-Portable Bluetooth...    4.7   \n",
       "2    3  B09B8YWXDF  Echo Dot (5th generation, 2022 release) | Big ...    4.7   \n",
       "3    4  B09B8T5VGV  Echo Dot with clock (5th generation, 2022 rele...    4.7   \n",
       "4    5  B09WX6QD65  Introducing Echo Pop | Full sound compact Wi-F...    4.6   \n",
       "\n",
       "   reviews  price  isBestSeller  boughtInLastMonth        category  \n",
       "0    15308  21.99         False                  0  Hi-Fi Speakers  \n",
       "1    98099  23.99          True                  0  Hi-Fi Speakers  \n",
       "2    15308  21.99         False                  0  Hi-Fi Speakers  \n",
       "3     7205  31.99         False                  0  Hi-Fi Speakers  \n",
       "4     1881  17.99         False                  0  Hi-Fi Speakers  "
      ]
     },
     "execution_count": 5,
     "metadata": {},
     "output_type": "execute_result"
    }
   ],
   "source": [
    "ventas_am_uk.head()"
   ]
  },
  {
   "cell_type": "code",
   "execution_count": null,
   "metadata": {},
   "outputs": [],
   "source": [
    "ventas_am_uk.head()\n",
    "plt.bar(ventas_am_uk['category'], ventas_am_uk['reviews'])\n",
    "\n",
    "# Personalizar la gráfica\n",
    "plt.title('Gráfica de Barras desde CSV')\n",
    "plt.xlabel('Categoría')\n",
    "plt.ylabel('Valor')"
   ]
  },
  {
   "cell_type": "markdown",
   "metadata": {},
   "source": [
    "1.2.1. Haz una gráfica de barras que te saque las diferentes categorías que hay.\n",
    "1.2.2. Usando una gráfica de tarta saca los valores que dominen las categorías más altas. "
   ]
  },
  {
   "cell_type": "code",
   "execution_count": null,
   "metadata": {},
   "outputs": [],
   "source": []
  },
  {
   "cell_type": "markdown",
   "metadata": {},
   "source": [
    "Parte 2: Profundizando en el precio de los productos\n",
    "Pregunta comercial : ¿Cómo se fijan los precios de los productos en Amazon Reino Unido? ¿Hay puntos o rangos de precios específicos que sean más comunes?\n",
    "\n",
    "Medidas de centralidad :\n",
    "     Calcular la media, la mediana y la moda para los precios de los productos.\n",
    "    ¿Cuál es el precio promedio de los productos que se muestran? ¿Cómo se compara con el precio más común (moda)?\n"
   ]
  },
  {
   "cell_type": "code",
   "execution_count": 10,
   "metadata": {},
   "outputs": [
    {
     "name": "stdout",
     "output_type": "stream",
     "text": [
      "el valor medio es 89.24380943923663, la mediana es 19.09 y la moda es 0    9.99\n",
      "Name: price, dtype: float64\n"
     ]
    }
   ],
   "source": [
    "media = ventas_am_uk['price'].mean()\n",
    "moda = ventas_am_uk['price'].mode()\n",
    "mediana = ventas_am_uk['price'].median()\n",
    "\n",
    "print(f\"el valor medio es {media}, la mediana es {mediana} y la moda es {moda}\")"
   ]
  },
  {
   "cell_type": "markdown",
   "metadata": {},
   "source": [
    "Medidas de dispersión :\n",
    "    Determine la varianza, la desviación estándar, el rango y el rango intercuartil para el producto price.\n",
    "    ¿Qué tan variados son los precios de los productos? ¿Existen indicadores de una importante diferencia de precios?"
   ]
  },
  {
   "cell_type": "code",
   "execution_count": 17,
   "metadata": {},
   "outputs": [
    {
     "name": "stdout",
     "output_type": "stream",
     "text": [
      " Varianza: 119445.48532254907, desviacion estandar 345.60886175349884, rango 100000.0 y rango intercuartilico 0.25     9.99\n",
      "0.50    19.09\n",
      "0.75    45.99\n",
      "Name: price, dtype: float64\n"
     ]
    }
   ],
   "source": [
    "varianza = ventas_am_uk['price'].var()\n",
    "desv_est = ventas_am_uk['price'].std()\n",
    "maxi = ventas_am_uk['price'].max()\n",
    "mini = ventas_am_uk['price'].min()\n",
    "rango = maxi - mini\n",
    "rango_intercu = ventas_am_uk['price'].quantile([0.25, 0.5, 0.75])\n",
    "print(f\" Varianza: {varianza}, desviacion estandar {desv_est}, rango {rango} y rango intercuartilico {rango_intercu}\")\n"
   ]
  },
  {
   "cell_type": "markdown",
   "metadata": {},
   "source": [
    "Visualizaciones :\n",
    "    ¿Existe un rango de precios específico en el que se encuentran la mayoría de los productos? Dibuje un histograma para visualizar la distribución de los precios de los productos. Si le resulta difícil leer estos diagramas, piense por qué es así y explique cómo se podría resolver .\n",
    "    ¿Hay productos cuyo precio es significativamente más alto que el resto? Utilice un diagrama de cajas para mostrar la diferencia y los posibles valores atípicos en los precios de los productos."
   ]
  },
  {
   "cell_type": "code",
   "execution_count": null,
   "metadata": {},
   "outputs": [],
   "source": []
  },
  {
   "cell_type": "markdown",
   "metadata": {},
   "source": [
    "Parte 3: Análisis de las calificaciones de productos\n",
    "\n",
    "Medidas de centralidad :\n",
    "    Calcular la media, la mediana y la moda para los rating de los productos.\n",
    "    ¿Cómo califican los clientes los productos en general? ¿Existe una tendencia común?"
   ]
  },
  {
   "cell_type": "code",
   "execution_count": 3,
   "metadata": {},
   "outputs": [
    {
     "name": "stdout",
     "output_type": "stream",
     "text": [
      "el valor medio es 2.152836472966065, la mediana es 0.0 y la moda es 0    0.0\n",
      "Name: stars, dtype: float64\n"
     ]
    }
   ],
   "source": [
    "mdia = ventas_am_uk['stars'].mean()\n",
    "mda = ventas_am_uk['stars'].mode()\n",
    "mdiana = ventas_am_uk['stars'].median()\n",
    "\n",
    "print(f\"el valor medio es {mdia}, la mediana es {mdiana} y la moda es {mda}\")"
   ]
  },
  {
   "cell_type": "markdown",
   "metadata": {},
   "source": [
    "Medidas de dispersión :\n",
    "    Determine la varianza, la desviación estándar y el rango intercuartil para el producto rating.\n",
    "    ¿Son consistentes las calificaciones o hay una amplia variación en los comentarios de los clientes?"
   ]
  },
  {
   "cell_type": "code",
   "execution_count": 4,
   "metadata": {},
   "outputs": [
    {
     "name": "stdout",
     "output_type": "stream",
     "text": [
      " Varianza: 4.817434029796862, desviacion estandar 2.1948653785134207, rango 5.0 y rango intercuartilico 0.25    0.0\n",
      "0.50    0.0\n",
      "0.75    4.4\n",
      "Name: stars, dtype: float64\n"
     ]
    }
   ],
   "source": [
    "vrianza = ventas_am_uk['stars'].var()\n",
    "dsv_est = ventas_am_uk['stars'].std()\n",
    "mxi = ventas_am_uk['stars'].max()\n",
    "mni = ventas_am_uk['stars'].min()\n",
    "rngo = mxi - mni\n",
    "rngo_intercu = ventas_am_uk['stars'].quantile([0.25, 0.5, 0.75])\n",
    "print(f\" Varianza: {vrianza}, desviacion estandar {dsv_est}, rango {rngo} y rango intercuartilico {rngo_intercu}\")\n"
   ]
  },
  {
   "cell_type": "markdown",
   "metadata": {},
   "source": [
    "Forma de la distribución :\n",
    "    Calcular la asimetría y la curtosis de la rating columna (stars).\n",
    "    ¿Las calificaciones se distribuyen normalmente o tienden hacia valores más altos o más bajos?"
   ]
  },
  {
   "cell_type": "code",
   "execution_count": 4,
   "metadata": {},
   "outputs": [
    {
     "data": {
      "text/plain": [
       "(np.float64(0.08120735761080985), np.float64(-1.9260061280432985))"
      ]
     },
     "execution_count": 4,
     "metadata": {},
     "output_type": "execute_result"
    }
   ],
   "source": [
    "skewness_rating = ventas_am_uk['stars'].skew()\n",
    "kurtosis_rating = ventas_am_uk['stars'].kurtosis()\n",
    "\n",
    "skewness_rating, kurtosis_rating"
   ]
  },
  {
   "cell_type": "markdown",
   "metadata": {},
   "source": [
    "Visualizaciones :\n",
    "    Dibuje un histograma para visualizar la distribución de las calificaciones de los productos. ¿Existe alguna calificación específica que sea más común?"
   ]
  }
 ],
 "metadata": {
  "kernelspec": {
   "display_name": "Python 3",
   "language": "python",
   "name": "python3"
  },
  "language_info": {
   "codemirror_mode": {
    "name": "ipython",
    "version": 3
   },
   "file_extension": ".py",
   "mimetype": "text/x-python",
   "name": "python",
   "nbconvert_exporter": "python",
   "pygments_lexer": "ipython3",
   "version": "3.12.5"
  }
 },
 "nbformat": 4,
 "nbformat_minor": 2
}
